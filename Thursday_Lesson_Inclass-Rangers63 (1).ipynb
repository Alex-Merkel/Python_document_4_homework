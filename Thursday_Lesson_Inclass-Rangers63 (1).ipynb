{
 "cells": [
  {
   "cell_type": "markdown",
   "metadata": {},
   "source": [
    "# Object-Oriented-Programming (OOP)"
   ]
  },
  {
   "cell_type": "markdown",
   "metadata": {},
   "source": [
    "## Tasks Today:\n",
    "\n",
    "   \n",
    "\n",
    "1) <b>Creating a Class (Initializing/Declaring)</b> <br>\n",
    "2) <b>Using a Class (Instantiating)</b> <br>\n",
    " &nbsp;&nbsp;&nbsp;&nbsp; a) Creating One Instance <br>\n",
    " &nbsp;&nbsp;&nbsp;&nbsp; b) Creating Multiple Instances <br>\n",
    " &nbsp;&nbsp;&nbsp;&nbsp; c) In-Class Exercise #1 - Create a Class 'Car' and instantiate three different makes of cars <br>\n",
    "3) <b>The \\__init\\__() Method</b> <br>\n",
    " &nbsp;&nbsp;&nbsp;&nbsp; a) The 'self' Attribute <br>\n",
    "4) <b>Class Attributes</b> <br>\n",
    " &nbsp;&nbsp;&nbsp;&nbsp; a) Initializing Attributes <br>\n",
    " &nbsp;&nbsp;&nbsp;&nbsp; b) Setting an Attribute Outside of the \\__init\\__() Method <br>\n",
    " &nbsp;&nbsp;&nbsp;&nbsp; c) Setting Defaults for Attributes <br>\n",
    " &nbsp;&nbsp;&nbsp;&nbsp; d) Accessing Class Attributes <br>\n",
    " &nbsp;&nbsp;&nbsp;&nbsp; e) Changing Class Attributes <br>\n",
    " &nbsp;&nbsp;&nbsp;&nbsp; f) In-Class Exercise #2 - Add a color and wheels attribute to your 'Car' class <br>\n",
    "5) <b>Class Methods</b> <br>\n",
    " &nbsp;&nbsp;&nbsp;&nbsp; a) Creating <br>\n",
    " &nbsp;&nbsp;&nbsp;&nbsp; b) Calling <br>\n",
    " &nbsp;&nbsp;&nbsp;&nbsp; c) Modifying an Attribute's Value Through a Method <br>\n",
    " &nbsp;&nbsp;&nbsp;&nbsp; d) Incrementing an Attribute's Value Through a Method <br>\n",
    " &nbsp;&nbsp;&nbsp;&nbsp; e) In-Class Exercise #3 - Add a method that prints the cars color and wheel number, then call them <br>\n",
    "6) <b>Inheritance</b> <br>\n",
    " &nbsp;&nbsp;&nbsp;&nbsp; a) Syntax for Inheriting from a Parent Class <br>\n",
    " &nbsp;&nbsp;&nbsp;&nbsp; b) The \\__init\\__() Method for a Child Class (super()) <br>\n",
    " &nbsp;&nbsp;&nbsp;&nbsp; c) Defining Attributes and Methods for the Child Class <br>\n",
    " &nbsp;&nbsp;&nbsp;&nbsp; d) Method Overriding <br>\n",
    " &nbsp;&nbsp;&nbsp;&nbsp; e) In-Class Exercise #4 - Create a class 'Ford' that inherits from 'Car' class and initialize it as a Blue Ford Explorer with 4 wheels using the super() method <br>\n",
    "7) <b>Classes as Attributes</b> <br>\n",
    "8) <b>Exercises</b> <br>\n",
    " &nbsp;&nbsp;&nbsp;&nbsp; a) Exercise #1 - Turn the shopping cart program from yesterday into an object-oriented program <br>"
   ]
  },
  {
   "cell_type": "markdown",
   "metadata": {},
   "source": [
    "## Creating a Class (Initializing/Declaring)\n",
    "<p>When creating a class, function, or even a variable you are initializing that object. Initializing and Declaring occur at the same time in Python, whereas in lower level languages you have to declare an object before initializing it. This is the first step in the process of using a class.</p>"
   ]
  },
  {
   "cell_type": "code",
   "execution_count": 1,
   "metadata": {},
   "outputs": [],
   "source": [
    "# ***Creating the idea / blueprint of a car: ***\n",
    "# **Notice the first letter of \"Car\" is capitalized!**\n",
    "class Car():\n",
    "    wheels = 4\n",
    "    color = 'blue'"
   ]
  },
  {
   "cell_type": "markdown",
   "metadata": {},
   "source": [
    "## Using a Class (Instantiating)\n",
    "<h5>***THIS IS WHERE WE ARE ACTUALLY MAKING THE CAR (USING THE BLUE PRINT)*** <br><p>The process of creating a class is called <i>Instantiating</i>. Each time you create a variable of that type of class, it is referred to as an <i>Instance</i> of that class. This is the second step in the process of using a class.</p>"
   ]
  },
  {
   "cell_type": "markdown",
   "metadata": {},
   "source": [
    "##### Creating One Instance"
   ]
  },
  {
   "cell_type": "code",
   "execution_count": 2,
   "metadata": {},
   "outputs": [
    {
     "name": "stdout",
     "output_type": "stream",
     "text": [
      "blue\n"
     ]
    }
   ],
   "source": [
    "# **Now \"ford\" is our car. We've actually made the car using the blue print now:**\n",
    "ford = Car()\n",
    "\n",
    "# **This will print out: \"blue\" : **\n",
    "print(ford.color)\n",
    "# **This will create an ERROR (attribute error since windshield wipers exist in this case): **\n",
    "print(ford.windshield_wipers)"
   ]
  },
  {
   "cell_type": "markdown",
   "metadata": {},
   "source": [
    "##### Creating Multiple Instances"
   ]
  },
  {
   "cell_type": "code",
   "execution_count": 3,
   "metadata": {},
   "outputs": [
    {
     "name": "stdout",
     "output_type": "stream",
     "text": [
      "<class 'str'>\n"
     ]
    }
   ],
   "source": [
    "# ***This doesn't overwrite variables like usual***All three items (chevrolet, honda, porsche) all equal the Car() class***\n",
    "\n",
    "chevrolet = Car()\n",
    "honda = Car()\n",
    "porsche = Car()\n",
    "\n",
    "print(type(porsche.color))"
   ]
  },
  {
   "cell_type": "markdown",
   "metadata": {},
   "source": [
    "##### In-Class Exercise #1 - Create a Class 'Car' and Instantiate three different makes of cars"
   ]
  },
  {
   "cell_type": "code",
   "execution_count": 4,
   "metadata": {},
   "outputs": [
    {
     "name": "stdout",
     "output_type": "stream",
     "text": [
      "4\n",
      "purple\n",
      "4\n"
     ]
    }
   ],
   "source": [
    "class My_car():\n",
    "    doors = 4\n",
    "    color = \"purple\"\n",
    "    wheels = 4\n",
    "    \n",
    "    \n",
    "subaru = My_car()\n",
    "ferrari = My_car()\n",
    "fiat = My_car()\n",
    "\n",
    "\n",
    "print(subaru.doors)\n",
    "print(ferrari.color)\n",
    "print(fiat.wheels)"
   ]
  },
  {
   "cell_type": "markdown",
   "metadata": {},
   "source": [
    "## The \\__init\\__() Method <br>\n",
    "<p>This method is used in almost every created class, and called only once upon the creation of the class instance. This method will initialize all variables needed for the object.</p>"
   ]
  },
  {
   "cell_type": "code",
   "execution_count": 7,
   "metadata": {},
   "outputs": [
    {
     "name": "stdout",
     "output_type": "stream",
     "text": [
      "black\n",
      "blue\n",
      "4\n",
      "6\n"
     ]
    }
   ],
   "source": [
    "# ***Method is a function inside of our class***\n",
    "# ***Can only use in it ONCE per class***AUTOMATICALLY HAPPENS upon the creation of the class***\n",
    "class Car():\n",
    "    engine = \"4.7L\" # *Our scope here is Global within class - any method inside the class can call upon this variable*\n",
    "    \n",
    "#   **Double underscores used here! ***We're passing this data into the class***Allows certain things to be the same and add in others***\n",
    "    def __init__(self, color, wheels):\n",
    "        self.color = color\n",
    "        self.wheels = wheels\n",
    "    \n",
    "# **This is where we put the color of \"black\" and the wheels of 4 into mazda's value/class and \"blue\", 6 for Subaru:  **    \n",
    "mazda = Car(\"black\", 4)\n",
    "subaru = Car(\"blue\", 6)\n",
    "    \n",
    "# *Printing out what color and how many wheels each of our cars from above have:*\n",
    "print(mazda.color)\n",
    "print(subaru.color)\n",
    "print(mazda.wheels)\n",
    "print(subaru.wheels)"
   ]
  },
  {
   "cell_type": "markdown",
   "metadata": {},
   "source": [
    "##### The 'self' Attribute <br>\n",
    "<p>This attribute is REQUIRED to keep track of specific instance's attributes. Without the self attribute, the program would not know how to reference or keep track of an instance's attributes.</p>"
   ]
  },
  {
   "cell_type": "code",
   "execution_count": null,
   "metadata": {},
   "outputs": [],
   "source": [
    "# **self is a magic word!!**NEED to have it in there to add attributes after a class has already been established**\n",
    "# see above"
   ]
  },
  {
   "cell_type": "markdown",
   "metadata": {},
   "source": [
    "## Class Attributes <br>\n",
    "<p>While variables are inside of a class, they are referred to as attributes and not variables. ***WHEN someone says 'attribute' you know they're speaking about a class.*** Attributes can be initialized through the init method, or outside of it.</p>"
   ]
  },
  {
   "cell_type": "markdown",
   "metadata": {},
   "source": [
    "##### Initializing Attributes"
   ]
  },
  {
   "cell_type": "code",
   "execution_count": 9,
   "metadata": {},
   "outputs": [],
   "source": [
    "# see above\n",
    "\n",
    "class Toy():\n",
    "    kind = \"car\" # **This is called a constant\n",
    "    \n",
    "# **This is a METHOD, not a function:**AKA \"dunder init\"\n",
    "    def __init__(self, rooftop, horn, wheels):\n",
    "        self.rooftop = rooftop  # ** These are out attributes **\n",
    "        self.horn = horn\n",
    "        self.wheels = wheels\n",
    "        \n",
    "tonka_truck = Toy(1,1,4)  #** 1 Rooftop, 1 horn, 4 wheels **\n",
    "hotwheels_car = Toy(2,3,8)  # ** 2 Rooftops, 3 horns, 8 wheels **"
   ]
  },
  {
   "cell_type": "markdown",
   "metadata": {},
   "source": [
    "##### Accessing Class Attributes"
   ]
  },
  {
   "cell_type": "code",
   "execution_count": 10,
   "metadata": {
    "scrolled": true
   },
   "outputs": [
    {
     "data": {
      "text/plain": [
       "8"
      ]
     },
     "execution_count": 10,
     "metadata": {},
     "output_type": "execute_result"
    }
   ],
   "source": [
    "# See Above\n",
    "# **This will give output of 1 becuase the tonka_truck has 1 rooftop:**\n",
    "tonka_truck.rooftop\n",
    "# **This will give output of 8 becuase the hotwheels_car has 8 wheels:**\n",
    "hotwheels_car.wheels"
   ]
  },
  {
   "cell_type": "markdown",
   "metadata": {},
   "source": [
    "##### Setting Defaults for Attributes"
   ]
  },
  {
   "cell_type": "code",
   "execution_count": 12,
   "metadata": {},
   "outputs": [
    {
     "data": {
      "text/plain": [
       "'Blue'"
      ]
     },
     "execution_count": 12,
     "metadata": {},
     "output_type": "execute_result"
    }
   ],
   "source": [
    "class Car():\n",
    "    engine = '4.7L'\n",
    "    \n",
    "    def __init__(self, wheels):\n",
    "        self.wheels = wheels\n",
    "        self.color = \"Blue\"  #  **This is the default attribute that can be overwritten**\n",
    "\n",
    "# ** Only had to put in that the honda has 4 wheels, and it automatically assigned it the color of \"Blue\"  **\n",
    "honda = Car(4)\n",
    "honda.color"
   ]
  },
  {
   "cell_type": "markdown",
   "metadata": {},
   "source": [
    "##### Changing Class Attributes <br>\n",
    "<p>Keep in mind there are global class attributes and then there are attributes only available to each class instance which won't effect other classes.</p>"
   ]
  },
  {
   "cell_type": "code",
   "execution_count": 15,
   "metadata": {},
   "outputs": [
    {
     "name": "stdout",
     "output_type": "stream",
     "text": [
      "Before change: Blue\n",
      "\n",
      "After change: White\n",
      "Blue\n"
     ]
    }
   ],
   "source": [
    "jeep = Car(8)\n",
    "# *This will print as \"Blue\" : *\n",
    "print(f\"Before change: {jeep.color}\")\n",
    "\n",
    "jeep.color = \"White\"\n",
    "# *This will print as \"White\" : *\n",
    "print(f\"\\nAfter change: {jeep.color}\")\n",
    "# *This still returns \"Blue\" since we didn't change it: *\n",
    "print(honda.color)"
   ]
  },
  {
   "cell_type": "code",
   "execution_count": 32,
   "metadata": {},
   "outputs": [
    {
     "data": {
      "text/plain": [
       "'rock on, climber'"
      ]
     },
     "execution_count": 32,
     "metadata": {},
     "output_type": "execute_result"
    }
   ],
   "source": [
    "# ***Another more in depth example of a class, init, etc.: ***\n",
    "# **There is some duplicative stuff below. For example, we could remove self from self.wall.lower() and it would work (con't)\n",
    "# (con't) since it pulled in info from the init method already pertaining to self and wall. **\n",
    "\n",
    "class House():\n",
    "#     **\"self\" is kind of like the cloud / Google drive / etc. self in init \"pushes\" attributes to the cloud:**\n",
    "    def __init__(self, wall, dishes):\n",
    "#         ***Better to have these in this method rather than below, unless you only want it in one of the methods: ***\n",
    "        self.wall = wall\n",
    "        self.dishes = dishes\n",
    "        \n",
    "#     **Using \"self\" below is like \"pulling\" data from cloud / Google drive in (think of this and next as other PC's pulling): **    \n",
    "    def washDishes(self):\n",
    "        if self.dishes.lower() == \"dirty\":\n",
    "            return \"Clean\"\n",
    "    \n",
    "    def rockClimbingWall(self, wall):\n",
    "        if self.wall.lower() == \"yes\":\n",
    "            return \"rock on, climber\"\n",
    "        else:\n",
    "            return \"why on Earth would you not want a rock climbing wall?\"\n",
    "        \n",
    "# **Inputing yes and dirty for attributes in init section (first METHOD, not function): **\n",
    "brandon_house = House('yes', \"dirty\")\n",
    "\n",
    "brandon_house.washDishes()\n",
    "brandon_house.rockClimbingWall(\"Yes\")\n"
   ]
  },
  {
   "cell_type": "markdown",
   "metadata": {},
   "source": [
    "##### In-Class Exercise #2 - Add a doors and seats attribute to your 'Car' class then print out two different instances with different doors and seats"
   ]
  },
  {
   "cell_type": "code",
   "execution_count": 35,
   "metadata": {},
   "outputs": [
    {
     "name": "stdout",
     "output_type": "stream",
     "text": [
      "2\n",
      "3\n",
      "4\n",
      "5\n",
      "Toyota seats: 2 and Toyota doors: 2\n",
      "Porsche seats: 4 and Porsche doors: 4\n"
     ]
    }
   ],
   "source": [
    "# **My example before watching next videos: **\n",
    "\n",
    "class Car():\n",
    "    \n",
    "    def __init__(self, doors, seats):\n",
    "        self.doors = doors\n",
    "        self.seats = seats\n",
    "        \n",
    "mustang = Car(2,3)\n",
    "focus = Car(4,5)\n",
    "\n",
    "print(mustang.doors)\n",
    "print(mustang.seats)\n",
    "print(focus.doors)\n",
    "print(focus.seats)\n",
    "\n",
    "\n",
    "# ***Example done over video with Brandon:***\n",
    "class Car():\n",
    "    \n",
    "    def __init__(self, doors, seats = 4):\n",
    "        self.doors = doors\n",
    "        self.seats = seats\n",
    "        \n",
    "toyota = Car(2,2)\n",
    "porsche = Car(4)\n",
    "\n",
    "print(f\"Toyota seats: {toyota.seats} and Toyota doors: {toyota.doors}\")\n",
    "print(f\"Porsche seats: {porsche.seats} and Porsche doors: {porsche.doors}\")"
   ]
  },
  {
   "cell_type": "markdown",
   "metadata": {},
   "source": [
    "## Class Methods <br>\n",
    "<p>While inside of a class, functions are referred to as 'methods'. If you hear someone mention methods, they're speaking about classes. Methods are essentially functions, but only callable on the instances of a class.</p>"
   ]
  },
  {
   "cell_type": "markdown",
   "metadata": {},
   "source": [
    "<!-- ##### Creating -->"
   ]
  },
  {
   "cell_type": "code",
   "execution_count": 132,
   "metadata": {},
   "outputs": [],
   "source": [
    "# *****This is a VERY GOOD example to get familiar with and practice with Classes, which are VERY IMPORTANT*****\n",
    "\n",
    "\n",
    "class ShoppingBag():\n",
    "    \"\"\"\n",
    "        The ShoppingBag class will have handles, capacity, and items to place inside. \n",
    "        \n",
    "        Attributes for the class:\n",
    "        - handles: expected to be an integer\n",
    "        - capacity: expected to be a string OR an integer\n",
    "        - items: expected to be a list\n",
    "    \"\"\"\n",
    "    \n",
    "    def __init__(self, handles, capacity, items):\n",
    "        self.handles = handles\n",
    "        self.capacity = capacity\n",
    "        self.items = items\n",
    "        \n",
    "#      **Write a method that shoes the items in our ShoppingBag / this is our items list: **\n",
    "# ****Challenge: write code in here to handle it if there was nothing in the shopping cart:  ****\n",
    "    def showShoppingBag(self):\n",
    "        for item in self.items:\n",
    "                print(item)\n",
    "             \n",
    "#   **Method to show the capacity of ShoppingBag - how much room is left: **\n",
    "    def showCapacity(self):\n",
    "        print(f\"Your capacity is: {self.capacity}\")\n",
    "        \n",
    "#   **Method to add item(s) for the ShoppingBag: **\n",
    "    def addToShoppingBag(self):\n",
    "        products = input(\"What would you like to add? \")\n",
    "        self.items.append(products)\n",
    "        \n",
    "#   **Change the capacity of the ShoppingBag: **\n",
    "    def changeBagCapacity(self, capacity):\n",
    "        self.capacity = capacity\n",
    "        \n",
    "#  **Increase the capacity of the ShoppingBag by a default amount that we set to 10: **\n",
    "# ****Another challenge: It currently won't stop if we go over 10 items and our capacity is only 10 ****\n",
    "    def increaseCapacity(self, changed_capacity = 10):\n",
    "        if self.capacity == isinstance(self.capacity, str):\n",
    "            print(\"We can't add that here\")\n",
    "        else:\n",
    "            self.capacity += changed_capacity\n",
    "       "
   ]
  },
  {
   "cell_type": "markdown",
   "metadata": {},
   "source": [
    "##### Calling"
   ]
  },
  {
   "cell_type": "code",
   "execution_count": 133,
   "metadata": {},
   "outputs": [
    {
     "name": "stdout",
     "output_type": "stream",
     "text": [
      "What do you want to do? add/show/quit add\n",
      "What would you like to add? apple\n",
      "What do you want to do? add/show/quit show\n",
      "apple\n",
      "What do you want to do? add/show/quit add\n",
      "What would you like to add? watermelon\n",
      "What do you want to do? add/show/quit show\n",
      "apple\n",
      "watermelon\n",
      "What do you want to do? add/show/quit quit\n",
      "apple\n",
      "watermelon\n",
      "Thanks for shopping\n"
     ]
    }
   ],
   "source": [
    "# See Above\n",
    "#  **So far, we created the idea of the shopping bag; now we will actually instantiate and MAKE one, and use it! **\n",
    "# **Below says: this is a version of a shopping bag that has 2 handles, 10 item capacity, and is empty right now ***\n",
    "wholeFoods_bag = ShoppingBag(2, 10, [])\n",
    "\n",
    "#  ****Way to think about this is: a function that is in charge of picking which things to run***\n",
    "# **Create a function to run the ShoppingBag methods on our wholeFoods_bag instance: **\n",
    "\n",
    "def run():\n",
    "    while True:\n",
    "#      **Didn't put capacity stuff in here, doing it later a bit differently:**\n",
    "        response = input(\"What do you want to do? add/show/quit \")\n",
    "        \n",
    "        if response.lower() == \"quit\":\n",
    "            wholeFoods_bag.showShoppingBag()\n",
    "            print(\"Thanks for shopping\")\n",
    "#           ***Only break statement in here because we only want it to stop once they've entered \"quit\": ***\n",
    "            break   \n",
    "        elif response.lower() == \"add\":\n",
    "            wholeFoods_bag.addToShoppingBag()\n",
    "        elif response.lower() ==\"show\":\n",
    "            wholeFoods_bag.showShoppingBag()\n",
    "        else:\n",
    "            print(\"Try another command\")\n",
    "\n",
    "# ****This would be a good idea to have a \"button\" here to run a lot of other data (ex: clicking \"check-out\" on Amazon): ****\n",
    "run()"
   ]
  },
  {
   "cell_type": "markdown",
   "metadata": {},
   "source": [
    "##### Modifying an Attribute's Value Through a Method"
   ]
  },
  {
   "cell_type": "code",
   "execution_count": 56,
   "metadata": {},
   "outputs": [
    {
     "name": "stdout",
     "output_type": "stream",
     "text": [
      "Your capacity is: 10\n",
      "Capacity AFTER the change...\n",
      "Your capacity is: 40\n"
     ]
    }
   ],
   "source": [
    "# **Show the capacity**\n",
    "wholeFoods_bag.showCapacity()\n",
    "print(\"Capacity AFTER the change...\")\n",
    "wholeFoods_bag.changeBagCapacity(40)\n",
    "wholeFoods_bag.showCapacity()"
   ]
  },
  {
   "cell_type": "markdown",
   "metadata": {},
   "source": [
    "##### Incrementing an Attribute's Value Through a Method"
   ]
  },
  {
   "cell_type": "code",
   "execution_count": 58,
   "metadata": {},
   "outputs": [
    {
     "name": "stdout",
     "output_type": "stream",
     "text": [
      "Your capacity is: 40\n",
      "After increase:\n",
      "Your capacity is: 50\n"
     ]
    }
   ],
   "source": [
    "# *More practice on how to call on methods and how they interact with one another in a class *\n",
    "# **Adding 10 to their capacity:****Would be VERY useful if we wanted capacity to automatically increase at certain point****\n",
    "# ***Keeping capacity smaller and increasing as you go is something to consider if working with limited memory/space/energy***\n",
    "wholeFoods_bag.showCapacity()\n",
    "print(\"After increase:\")\n",
    "wholeFoods_bag.increaseCapacity()\n",
    "wholeFoods_bag.showCapacity()"
   ]
  },
  {
   "cell_type": "markdown",
   "metadata": {},
   "source": [
    "##### In-Class Exercise #3 - Add a method that takes in three parameters of year, doors and seats and prints out a formatted print statement with make, model, year, seats, and doors"
   ]
  },
  {
   "cell_type": "code",
   "execution_count": 87,
   "metadata": {},
   "outputs": [
    {
     "name": "stdout",
     "output_type": "stream",
     "text": [
      "This car is from 1999 and is a Ford Explorer and has 4 doors and 5 seats\n"
     ]
    }
   ],
   "source": [
    "# Create class with 2 paramters inside of the __init__ which are make and model\n",
    "class Car():\n",
    "    \n",
    "    def __init__(self, make, model):\n",
    "        self.make = make\n",
    "        self.model = model\n",
    "        \n",
    "# Inside of the Car class create a method that has 4 parameter in total (self,year,door,seats)\n",
    "    def otherInfo(self, year, door, seats):\n",
    "        self.year = year\n",
    "        self.door = door\n",
    "        self.seats = seats\n",
    "        print(f\"This car is from {self.year} and is a {self.make} {self.model} and has {self.door} doors and {self.seats} seats\")\n",
    "  \n",
    "Ford = Car(\"Ford\", \"Explorer\")\n",
    "Ford.otherInfo(1999, 4, 5)\n",
    "# Output: This car is from 2019 and is a Ford Explorer and has 4 doors and 5 seats\n",
    "\n"
   ]
  },
  {
   "cell_type": "markdown",
   "metadata": {},
   "source": [
    "## Inheritance <br>\n",
    "<p>You can create a child-parent relationship between two classes by using inheritance. What this allows you to do is have overriding methods, but also inherit traits from the parent class. Think of it as an actual parent and child, the child will inherit the parent's genes, as will the classes in OOP</p><br>\n",
    "<h4> *** Keep in mind that this is more complex and we should try to use easier methods/options when possible ***</h4><br>"
   ]
  },
  {
   "cell_type": "markdown",
   "metadata": {},
   "source": [
    "##### Syntax for Inheriting from a Parent Class"
   ]
  },
  {
   "cell_type": "code",
   "execution_count": 94,
   "metadata": {},
   "outputs": [
    {
     "name": "stdout",
     "output_type": "stream",
     "text": [
      "Bark\n",
      "Make some generic sound\n",
      "None\n",
      "9.8\n",
      "15\n"
     ]
    }
   ],
   "source": [
    "# **Create a parent class and call it Animal**\n",
    "class Animal():\n",
    "    acceleration = 9.8\n",
    "    \n",
    "    def __init__(self, name, species, legs = 4):\n",
    "        self.name = name\n",
    "        self.species = species\n",
    "        self.legs = legs\n",
    "    \n",
    "#     **Generic Parent Method - This is NOT overriding anything**\n",
    "    def makeSound(self):\n",
    "        print(\"Make some generic sound\")\n",
    "        \n",
    "    \n",
    "# ***Now we are making our child class (parent class goes inside () of the child class): ***\n",
    "class Dog(Animal):\n",
    "    speed = 15\n",
    "    \n",
    "    def printInfo(self):\n",
    "        print(f\"The Dog has {self.speed}mph and {self.acceleration}\")\n",
    "        \n",
    "\n",
    "# ***This is now a GRAND-child class  --  Mutt: ***\n",
    "class Mutt(Dog):\n",
    "    color = \"Tan\"\n",
    "    \n",
    "#     **Override the ANIMAL class - using the DOG class to overwrite the __init__ from Animal: **\n",
    "    def __init__(self, name, species, eye_color, legs = 4):\n",
    "#         **This is sending our data back up to the class of DOG: **\n",
    "        Dog.__init__(self, name, species, legs)\n",
    "        self.eye_color = eye_color\n",
    "        \n",
    "        \n",
    "#    ***Override the makeSound method (which is coming from....ANIMAL)\n",
    "    def makeSound(self):\n",
    "        noise = \"Bark\"\n",
    "        return noise\n",
    "\n",
    "#  **This will be going through class DOG to class ANIMAL so we have to have (self, name, species, legs = 4(legs are optional))**\n",
    "#  **Since class DOG doesn't have an init, it's using the __init__ from Animal**\n",
    "lassie = Dog(\"Lassie\", \"Dog\")\n",
    "basic_animal = Animal(\"Generic Animal Name\", \"Generic Animal Species\")\n",
    "buster = Mutt (\"Buster\", \"Mutt\", \"Brown\")\n",
    "        \n",
    "# *This will return: \"Bark\"  *\n",
    "print(buster.makeSound())\n",
    "# *This will return: \"Make some generic sound\"  *\n",
    "print(lassie.makeSound())\n",
    "# *This will return: \"9.8\"  *\n",
    "print(buster.acceleration)\n",
    "# *This will return and ERROR because the animal attribute doesn't have speed: *\n",
    "# print(basic_animal.speed)\n",
    "# *This will return: \"15\"  **\n",
    "print(buster.speed)\n"
   ]
  },
  {
   "cell_type": "markdown",
   "metadata": {},
   "source": [
    "##### The \\__init\\__() Method for a Child Class - super()"
   ]
  },
  {
   "cell_type": "code",
   "execution_count": 95,
   "metadata": {
    "scrolled": true
   },
   "outputs": [
    {
     "name": "stdout",
     "output_type": "stream",
     "text": [
      "Bark\n",
      "Make some generic sound\n",
      "None\n",
      "9.8\n",
      "15\n"
     ]
    }
   ],
   "source": [
    "class Puppy(Dog):\n",
    "    color: \"black and brown\"\n",
    "        \n",
    "#     **Override the Animal class __init__ (via Dog class): ***\n",
    "    def __init__(self, name, species, eye_color, legs = 4):\n",
    "#         ***\"super()\" goes ALL THE WAY UP to the PARENT class: ***\n",
    "        super().__init__(name, species, legs)\n",
    "        self.eye_color = eye_color\n",
    "        \n",
    "        \n",
    "#     **Override the makeSound method: **\n",
    "    def makeSound(self):\n",
    "        noise = \"Bark\"\n",
    "        return noise\n",
    "\n",
    "    \n",
    "# ****This is all the same tests / prints we did in the above cell and it works just the same ****\n",
    "lassie = Dog(\"Lassie\", \"Dog\")\n",
    "basic_animal = Animal(\"Generic Animal Name\", \"Generic Animal Species\")\n",
    "buster = Mutt (\"Buster\", \"Mutt\", \"Brown\")\n",
    "        \n",
    "# *This will return: \"Bark\"  *\n",
    "print(buster.makeSound())\n",
    "# *This will return: \"Make some generic sound\"  *\n",
    "print(lassie.makeSound())\n",
    "# *This will return: \"9.8\"  *\n",
    "print(buster.acceleration)\n",
    "# *This will return and ERROR because the animal attribute doesn't have speed: *\n",
    "# print(basic_animal.speed)\n",
    "# *This will return: \"15\"  **\n",
    "print(buster.speed)\n",
    "    "
   ]
  },
  {
   "cell_type": "markdown",
   "metadata": {},
   "source": [
    "##### Defining Attributes and Methods for the Child Class"
   ]
  },
  {
   "cell_type": "code",
   "execution_count": null,
   "metadata": {},
   "outputs": [],
   "source": [
    "# See Above"
   ]
  },
  {
   "cell_type": "markdown",
   "metadata": {},
   "source": [
    "##### Method Overriding"
   ]
  },
  {
   "cell_type": "code",
   "execution_count": null,
   "metadata": {},
   "outputs": [],
   "source": [
    "# See Above"
   ]
  },
  {
   "cell_type": "markdown",
   "metadata": {},
   "source": [
    "## Classes as Attributes <br>\n",
    "<p>Classes can also be used as attributes within another class. This is useful in situations where you need to keep variables locally stored, instead of globally stored.</p>"
   ]
  },
  {
   "cell_type": "code",
   "execution_count": 96,
   "metadata": {},
   "outputs": [
    {
     "name": "stdout",
     "output_type": "stream",
     "text": [
      "20\n"
     ]
    },
    {
     "data": {
      "text/plain": [
       "'2019 Tesla Model X 20'"
      ]
     },
     "execution_count": 96,
     "metadata": {},
     "output_type": "execute_result"
    }
   ],
   "source": [
    "class Battery():\n",
    "    volts = 7.8\n",
    "    \n",
    "    def __init__(self, cells):\n",
    "        self.cells = cells\n",
    "    \n",
    "class Car():\n",
    "    def __init__(self, year, make, model, battery):\n",
    "        self.year = year\n",
    "        self.make = make\n",
    "        self.model = model\n",
    "        self.battery = battery\n",
    "        \n",
    "    def printInfo(self):\n",
    "        return f\"{self.year} {self.make} {self.model} {self.battery.cells}\"\n",
    "   \n",
    "# **This now has the constant of 7.8 volts and we just passed 20 cells for the battery: **\n",
    "my_battery = Battery(20)\n",
    "# **This is pulling the same constant of 7.8 volts and 20 cells for the battery with the \"my_battery\": **\n",
    "tesla = Car(2019, \"Tesla\", \"Model X\", my_battery)\n",
    "\n",
    "# *This returns: 20 (Pulling that from tesla class NOT battery class) *\n",
    "print(tesla.battery.cells)\n",
    "# *This returns: \"2019 Tesla Model X 20\"\n",
    "tesla.printInfo()"
   ]
  },
  {
   "cell_type": "markdown",
   "metadata": {},
   "source": [
    "# Exercises"
   ]
  },
  {
   "cell_type": "markdown",
   "metadata": {},
   "source": [
    "### Exercise 1 - Turn the shopping cart program from yesterday into an object-oriented program\n",
    "\n",
    "The comments in the cell below are there as a guide for thinking about the problem. However, if you feel a different way is best for you and your own thought process, please do what feels best for you by all means."
   ]
  },
  {
   "cell_type": "code",
   "execution_count": 137,
   "metadata": {},
   "outputs": [
    {
     "name": "stdout",
     "output_type": "stream",
     "text": [
      "What would you like to do (show/add/delete/quit)? quit\n",
      "The items in your cart are: \n",
      "Thanks for shopping!\n"
     ]
    }
   ],
   "source": [
    "# Create a class called cart that retains items and has methods to add, remove, and show\n",
    "\n",
    "class Cart():\n",
    "    \"\"\"\n",
    "        The Cart class will have the ability to show the cart, add items, or delete items.\n",
    "        \n",
    "        Attributes for this class:\n",
    "        - show: expected to be a string\n",
    "        - add: expected to be a string\n",
    "        - delete: expected to be a string\n",
    "    \"\"\"\n",
    "    \n",
    "    def __init__(self, add, delete, list = []):\n",
    "        self.list = list\n",
    "        self.add = add\n",
    "        self.delete = delete\n",
    "        \n",
    "    def showCart(self):\n",
    "        print(\"The items in your cart are: \")\n",
    "        for item in self.list:\n",
    "            print(item)\n",
    "            \n",
    "    def addCart(self):\n",
    "        product = input(\"What would you like to add to your cart? \")\n",
    "        self.list.append(product)\n",
    "        \n",
    "    def deleteCart(self):\n",
    "        delete_item = input(\"What would you like to remove from your cart? \")\n",
    "        if delete_item in self.list:\n",
    "            self.list.remove(delete_item)\n",
    "        else:\n",
    "            print(\"Can't delete that item, it's not in your cart. \")\n",
    "\n",
    "my_cart = Cart(None, None, [])\n",
    "\n",
    "def run(cart):\n",
    "    while True:\n",
    "        action = input(\"What would you like to do (show/add/delete/quit)? \")\n",
    "\n",
    "        if action.lower() == \"show\":\n",
    "            cart.showCart()\n",
    "        elif action.lower() == \"add\":\n",
    "            cart.addCart()             \n",
    "        elif action.lower() == \"delete\":\n",
    "            cart.deleteCart()\n",
    "        elif action.lower() == \"quit\":\n",
    "            cart.showCart()\n",
    "            print(\"Thanks for shopping!\")\n",
    "            break\n",
    "        else:\n",
    "            print(\"Please try another action.\")\n",
    "\n",
    "run(my_cart)\n",
    "                \n",
    "    "
   ]
  },
  {
   "cell_type": "markdown",
   "metadata": {},
   "source": [
    "### Exercise 2 - Write a Python class which has two methods get_String and print_String. get_String accept a string from the user and print_String print the string in upper case"
   ]
  },
  {
   "cell_type": "code",
   "execution_count": 155,
   "metadata": {},
   "outputs": [
    {
     "name": "stdout",
     "output_type": "stream",
     "text": [
      "Please enter a word or a sentence...Hello, how are you?\n",
      "HELLO, HOW ARE YOU?\n"
     ]
    }
   ],
   "source": [
    "class StringToUpper():\n",
    "    \n",
    "    def __init__(self):\n",
    "        self.user_string = \"\"\n",
    "    \n",
    "    def get_String(self):\n",
    "        self.user_string = input(\"Please enter a word or a sentence...\" )\n",
    "        \n",
    "    def print_String(self):\n",
    "        print(self.user_string.upper())\n",
    "        \n",
    "my_string = StringToUpper()\n",
    "        \n",
    "def run(string):\n",
    "    string.get_String()\n",
    "    string.print_String()\n",
    "    \n",
    "run(my_string)\n",
    "\n",
    "        \n",
    "        "
   ]
  }
 ],
 "metadata": {
  "kernelspec": {
   "display_name": "Python 3",
   "language": "python",
   "name": "python3"
  },
  "language_info": {
   "codemirror_mode": {
    "name": "ipython",
    "version": 3
   },
   "file_extension": ".py",
   "mimetype": "text/x-python",
   "name": "python",
   "nbconvert_exporter": "python",
   "pygments_lexer": "ipython3",
   "version": "3.10.9 (tags/v3.10.9:1dd9be6, Dec  6 2022, 20:01:21) [MSC v.1934 64 bit (AMD64)]"
  },
  "vscode": {
   "interpreter": {
    "hash": "09dc6c8814f6bdfa0b21d9ce50d62ed08961ead38cf92ba91e9f43530d531ab6"
   }
  }
 },
 "nbformat": 4,
 "nbformat_minor": 2
}
